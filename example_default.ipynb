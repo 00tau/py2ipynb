{
 "cells": [
  {
   "cell_type": "markdown",
   "metadata": {},
   "source": [
    "The simplest notebook. Markdown cells are embedded in comments,\n",
    "so the file is a valid `python` script.\n",
    "Be sure to **leave a space** after the comment character!"
   ]
  },
  {
   "cell_type": "code",
   "execution_count": null,
   "metadata": {},
   "outputs": [],
   "source": [
    "print(\"Hello, IPython\")"
   ]
  },
  {
   "cell_type": "raw",
   "metadata": {},
   "source": [
    "Raw cell contents are not formatted as markdown"
   ]
  }
 ],
 "metadata": {},
 "nbformat": 4,
 "nbformat_minor": 0
}